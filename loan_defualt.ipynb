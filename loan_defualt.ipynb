{
 "cells": [
  {
   "cell_type": "code",
   "execution_count": 61,
   "metadata": {
    "collapsed": false
   },
   "outputs": [],
   "source": [
    "#In this code I have fit a SVM model on the Loans Dataset. Below are the steps that I have used in the process.\n",
    "#1. Imported the dataset and filtered only the 36 months records for further analysis.\n",
    "#2. On initial review, removed the unecessary columns such as dates, descriptions, urls etc. (Please see the comments against the code)\n",
    "#3. Used an encoding technique to encode all the factors to int's ( grade , emp_length etc ).\n",
    "#4. Printed the intitial ratio for the (Target = 1 / Total observations) to see if I need to use a stratified sampling approach\n",
    "#5. Substituted all the Nan's in the dataframe to -1.  We Could use better techniques such as mean/median/Regression.\n",
    "#6. Normalized the columns since all the predictor variables had different range of values.\n",
    "#7. Now, we are ready with the data i.e our X matrix and the Y matrix which contains the actual values.\n",
    "#8. Just to see what percentile of the features we need to included I plotted a graph for the Percentile Features Vs the Prediction Rate.\n",
    "#9. From Point 8. I got the Percentile values as 10%. Thus I proceeded with this perent of features.\n",
    "#10. Used the Feature selection technique with 10% features from the scrubbed X matrix.\n",
    "#11. Fit a SVM model to see which are the features that we need to use for prediction.\n",
    "#12. Used a K-Cross fold validation with a stratified sampling approach since the target variables had very few proportions of '1' than '0' \n",
    "#13. One more advantage that stratified sampling had was that it reduced the bias when a set of data was selected for crossvalidation.\n",
    "#14. Plotted a Confusion matrix after fitting the model for review.\n",
    "#==================================***********************************========================================"
   ]
  },
  {
   "cell_type": "code",
   "execution_count": null,
   "metadata": {
    "collapsed": true
   },
   "outputs": [],
   "source": [
    "#Importting the necessary libraries\n",
    "import pandas as pd\n",
    "from sklearn import preprocessing\n",
    "import numpy as np\n",
    "import seaborn as sns\n",
    "import matplotlib.pyplot as plt\n",
    "from sklearn import cross_validation\n",
    "from sklearn import svm,  feature_selection, cross_validation\n",
    "from sklearn.pipeline import Pipeline\n",
    "from sklearn.feature_selection import SelectPercentile\n",
    "from sklearn.feature_selection import SelectKBest,chi2,f_classif\n",
    "from sklearn import metrics\n",
    "%matplotlib inline\n"
   ]
  },
  {
   "cell_type": "code",
   "execution_count": 2,
   "metadata": {
    "collapsed": false
   },
   "outputs": [],
   "source": [
    "#Reading the file into a data frame.\n",
    "data_df = pd.read_csv('loan3b.csv')\n",
    "sample = data_df.copy()"
   ]
  },
  {
   "cell_type": "code",
   "execution_count": 3,
   "metadata": {
    "collapsed": false
   },
   "outputs": [],
   "source": [
    "#Filtering the dataset by keeping only the 36 months records.\n",
    "data_df = data_df[(data_df['term'] == \" 36 months\")]\n",
    "\n",
    "#Populating the Target variable.\n",
    "def populate_target(row):\n",
    "    if row['loan_status'] == 'Fully Paid':\n",
    "        return 1\n",
    "    else:\n",
    "        return 0\n",
    "#Calling the populate_target function to populate the target variable.\n",
    "data_df['target'] = data_df.apply (lambda row: populate_target (row),axis=1)        "
   ]
  },
  {
   "cell_type": "code",
   "execution_count": 4,
   "metadata": {
    "collapsed": false
   },
   "outputs": [
    {
     "name": "stdout",
     "output_type": "stream",
     "text": [
      "Intitial Shape is : (143850, 101)\n"
     ]
    }
   ],
   "source": [
    "print \"Intitial Shape is :\",(data_df.shape)"
   ]
  },
  {
   "cell_type": "code",
   "execution_count": 5,
   "metadata": {
    "collapsed": false
   },
   "outputs": [],
   "source": [
    "#Creating a label encoder object for encoding the various strings to int (Factors)\n",
    "label_encoder = preprocessing.LabelEncoder()\n",
    "#ON initial analysis, removing these variables from the dataset since they either contain dates/ descriptions / urls which did not seem inportant.\n",
    "data_df.drop(['title','term','accept_d','issue_d','exp_d' ,'url','desc','earliest_cr_line','last_pymnt_d' , 'next_pymnt_d' , 'last_credit_pull_d','emp_title'], axis=1, inplace=True)"
   ]
  },
  {
   "cell_type": "code",
   "execution_count": 6,
   "metadata": {
    "collapsed": false
   },
   "outputs": [],
   "source": [
    "data_df.drop(['list_d'], axis=1, inplace=True)"
   ]
  },
  {
   "cell_type": "code",
   "execution_count": 7,
   "metadata": {
    "collapsed": true
   },
   "outputs": [],
   "source": [
    "data_df.drop(['id' , 'member_id'], axis=1, inplace=True)"
   ]
  },
  {
   "cell_type": "code",
   "execution_count": 8,
   "metadata": {
    "collapsed": false
   },
   "outputs": [
    {
     "name": "stdout",
     "output_type": "stream",
     "text": [
      "After removing the above columns , the shape is :  (143850, 86)\n"
     ]
    }
   ],
   "source": [
    "print \"After removing the above columns , the shape is : \" , data_df.shape\n",
    "\n",
    "#data_df['int_rate'] = label_encoder.fit_transform(data_df['int_rate'])\n",
    "#data_df.shape"
   ]
  },
  {
   "cell_type": "code",
   "execution_count": 9,
   "metadata": {
    "collapsed": true
   },
   "outputs": [],
   "source": [
    "#Removing the % sign from the int_rate variable.\n",
    "data_df['int_rate'] = data_df['int_rate'].str.lstrip('+-').str.rstrip('%')\n",
    "#data_df['int_rate'].head()\n",
    "#Encoding the following variables.\n",
    "data_df['grade'] = label_encoder.fit_transform(data_df['grade'])\n",
    "#data_df['grade'].head()\n",
    "data_df['sub_grade'] = label_encoder.fit_transform(data_df['sub_grade'])"
   ]
  },
  {
   "cell_type": "code",
   "execution_count": 10,
   "metadata": {
    "collapsed": false
   },
   "outputs": [],
   "source": [
    "data_df['emp_length'] = label_encoder.fit_transform(data_df['emp_length'])\n",
    "data_df['home_ownership'] = label_encoder.fit_transform(data_df['home_ownership'])\n",
    "data_df['is_inc_v'] = label_encoder.fit_transform(data_df['is_inc_v'])\n",
    "data_df['loan_status'] = label_encoder.fit_transform(data_df['loan_status'])\n",
    "data_df['pymnt_plan'] = label_encoder.fit_transform(data_df['pymnt_plan'])"
   ]
  },
  {
   "cell_type": "code",
   "execution_count": 11,
   "metadata": {
    "collapsed": false
   },
   "outputs": [],
   "source": [
    "data_df['purpose'] = label_encoder.fit_transform(data_df['purpose'])\n",
    "data_df['addr_city'] = label_encoder.fit_transform(data_df['addr_city'])\n",
    "data_df['addr_state'] = label_encoder.fit_transform(data_df['addr_state'])"
   ]
  },
  {
   "cell_type": "code",
   "execution_count": 12,
   "metadata": {
    "collapsed": false
   },
   "outputs": [],
   "source": [
    "data_df['revol_util'] = data_df['revol_util'].str.lstrip('+-').str.rstrip('%')\n",
    "#print data_df['revol_util'].head()"
   ]
  },
  {
   "cell_type": "code",
   "execution_count": 13,
   "metadata": {
    "collapsed": false
   },
   "outputs": [],
   "source": [
    "data_df['initial_list_status'] = label_encoder.fit_transform(data_df['initial_list_status'])"
   ]
  },
  {
   "cell_type": "code",
   "execution_count": 14,
   "metadata": {
    "collapsed": false
   },
   "outputs": [],
   "source": [
    "y = data_df['target'].as_matrix().astype(np.int)\n"
   ]
  },
  {
   "cell_type": "code",
   "execution_count": 15,
   "metadata": {
    "collapsed": false
   },
   "outputs": [
    {
     "name": "stdout",
     "output_type": "stream",
     "text": [
      "Target var 1:21913 instances and Target var 0:121937 instances.\n",
      "Ratio of target var 1 over all the instances: 0.15\n"
     ]
    },
    {
     "data": {
      "text/plain": [
       "(143850, 86)"
      ]
     },
     "execution_count": 15,
     "metadata": {},
     "output_type": "execute_result"
    }
   ],
   "source": [
    "print('Target var 1:{} instances and Target var 0:{} instances.'.format(y.sum(),y.shape[0]-y.sum()))\n",
    "print('Ratio of target var 1 over all the instances: {:.2f}'.format(float(y.sum())/y.shape[0] ))\n",
    "data_df.shape"
   ]
  },
  {
   "cell_type": "code",
   "execution_count": 16,
   "metadata": {
    "collapsed": true
   },
   "outputs": [],
   "source": [
    "#Encoding all the NAN's as -1. \n",
    "def susbtitute_nan(x):\n",
    "    if pd.isnull(x):\n",
    "        return (-1)\n",
    "    else:\n",
    "        return x\n",
    "data_df = data_df.applymap(susbtitute_nan)  "
   ]
  },
  {
   "cell_type": "code",
   "execution_count": 18,
   "metadata": {
    "collapsed": false
   },
   "outputs": [],
   "source": [
    "X = data_df[data_df.columns[0:85]].as_matrix().astype(np.float)\n",
    "y = data_df['target'].as_matrix().astype(np.int)"
   ]
  },
  {
   "cell_type": "code",
   "execution_count": 21,
   "metadata": {
    "collapsed": true
   },
   "outputs": [],
   "source": [
    "#Since the data in X is such that it has different ranges of data. Thus I am normalizing it.\n",
    "#Creating a scaler object\n",
    "scaler = preprocessing.StandardScaler()"
   ]
  },
  {
   "cell_type": "code",
   "execution_count": 24,
   "metadata": {
    "collapsed": false
   },
   "outputs": [],
   "source": [
    "#Normalizing the X matrix.\n",
    "X = scaler.fit_transform(X)\n",
    "transform = feature_selection.SelectPercentile(feature_selection.f_classif)\n",
    "clf = Pipeline([('anova', transform), ('svc', svm.SVC(C=1.0))])"
   ]
  },
  {
   "cell_type": "code",
   "execution_count": 25,
   "metadata": {
    "collapsed": false
   },
   "outputs": [
    {
     "name": "stderr",
     "output_type": "stream",
     "text": [
      "/root/anaconda/lib/python2.7/site-packages/sklearn/feature_selection/univariate_selection.py:111: UserWarning: Features [84] are constant.\n",
      "  UserWarning)\n"
     ]
    },
    {
     "data": {
      "image/png": "[encoded data removed]",
      "text/plain": [
       "<matplotlib.figure.Figure at 0x7fb05ddad8d0>"
      ]
     },
     "metadata": {},
     "output_type": "display_data"
    }
   ],
   "source": [
    "#I have commented this code since it takes a lot of time to iterate over the percentiles. Please see the plot \n",
    "#below for the different percentiles that I have plotted. I got 10% as the best estimate for percentile features.\n",
    "'''score_means = list()\n",
    "score_stds = list()\n",
    "percentiles = (10, 30,60,80)\n",
    "\n",
    "for percentile in percentiles:\n",
    "    clf.set_params(anova__percentile=percentile)\n",
    "    # Computing  the cross-validation score.\n",
    "    this_scores = cross_validation.cross_val_score(clf, X, y, n_jobs=1)\n",
    "    score_means.append(this_scores.mean())\n",
    "    score_stds.append(this_scores.std())\n",
    "\n",
    "plt.errorbar(percentiles, score_means, np.array(score_stds))\n",
    "\n",
    "plt.title('SVM-performance according to the percentile of features selected.')\n",
    "plt.xlabel('Percentile')\n",
    "plt.ylabel('Prediction rate')\n",
    "plt.axis('tight')\n",
    "plt.show()\n",
    "'''"
   ]
  },
  {
   "cell_type": "code",
   "execution_count": 26,
   "metadata": {
    "collapsed": false
   },
   "outputs": [
    {
     "data": {
      "image/png": "[encoded data removed]",
      "text/plain": [
       "<matplotlib.figure.Figure at 0x7fb02dcb9d90>"
      ]
     },
     "metadata": {},
     "output_type": "display_data"
    }
   ],
   "source": [
    "plt.figure(1)\n",
    "plt.clf()\n",
    "X_indices = np.arange(X.shape[-1])\n",
    "# Using the F-statistic with selecting only the 10% percentile most significant features.\n",
    "#Chose the Percentile as 10% since the above method gave the result at 10% as the best estimate for the feature selection.\n",
    "selector = SelectPercentile(f_classif, percentile=10)\n",
    "selector.fit(X, y)\n",
    "scores = -np.log10(selector.pvalues_)\n",
    "scores /= scores.max()\n",
    "plt.bar(X_indices - .45, scores, width=.2,\n",
    "        label=r'Univariate score', color='g')\n",
    "# Compare to the weights of an SVM\n",
    "clf = svm.SVC(kernel='linear')\n",
    "clf.fit(X, y)\n",
    "\n",
    "svm_weights = (clf.coef_ ** 2).sum(axis=0)\n",
    "svm_weights /= svm_weights.max()\n",
    "\n",
    "plt.bar(X_indices - .25, svm_weights, width=.2, label='SVM weight', color='r')\n",
    "\n",
    "clf_selected = svm.SVC(kernel='linear')\n",
    "clf_selected.fit(selector.transform(X), y)\n",
    "\n",
    "svm_weights_selected = (clf_selected.coef_ ** 2).sum(axis=0)\n",
    "svm_weights_selected /= svm_weights_selected.max()\n",
    "\n",
    "plt.bar(X_indices[selector.get_support()] - .05, svm_weights_selected,\n",
    "        width=.2, label='SVM weights after selection', color='b')\n",
    "\n",
    "plt.title(\"Comparing feature selection\")\n",
    "plt.xlabel('Feature number')\n",
    "plt.yticks(())\n",
    "plt.axis('tight')\n",
    "plt.legend(loc='upper right')\n",
    "plt.show()"
   ]
  },
  {
   "cell_type": "code",
   "execution_count": 43,
   "metadata": {
    "collapsed": false
   },
   "outputs": [
    {
     "name": "stdout",
     "output_type": "stream",
     "text": [
      "Indices that were selected from the model:  [11 41 42 43 44 45 50 73 74]\n",
      "Shape of the X matrix is  (143850, 9)\n"
     ]
    }
   ],
   "source": [
    "#These are the indices that were selected from the model.\n",
    "print \"Indices that were selected from the model: \", X_indices[selector.get_support()]\n",
    "print \"Shape of the X matrix is \", selector.transform(X).shape"
   ]
  },
  {
   "cell_type": "code",
   "execution_count": 51,
   "metadata": {
    "collapsed": true
   },
   "outputs": [],
   "source": [
    "#Since we have unbalanced data, I am using a stratified sampling approach for K-fold validation.\n",
    "#Used Stratified sampling since the folds may contain only 1 set of values ( 0 or 1 ) and could create bias.\n",
    "def K_fold(X, y, clf_class, shuffle=True, n_folds=10, **kwargs):\n",
    "    cross_fold = cross_validation.StratifiedKFold(y, n_folds=n_folds, shuffle=shuffle)\n",
    "    y_pred = y.copy()\n",
    "    for i, j in cross_fold:\n",
    "        X_train, X_test = X[i], X[j]\n",
    "        y_train = y[i]\n",
    "        clf = clf_class(**kwargs)\n",
    "        clf.fit(X_train,y_train)\n",
    "        y_pred[j] = clf.predict(X_test)\n",
    "    return y_pred"
   ]
  },
  {
   "cell_type": "code",
   "execution_count": 52,
   "metadata": {
    "collapsed": false
   },
   "outputs": [
    {
     "name": "stdout",
     "output_type": "stream",
     "text": [
      "Support vector machine(SVM):   1.00\n"
     ]
    }
   ],
   "source": [
    "print('Support vector machine(SVM):   {:.2f}'.format(metrics.accuracy_score(y, K_fold(selector.transform(X), y, svm.SVC))))\n"
   ]
  },
  {
   "cell_type": "code",
   "execution_count": 54,
   "metadata": {
    "collapsed": false
   },
   "outputs": [],
   "source": [
    "#Calculating the stats for the confusion matrix.\n",
    "svm_svc_conf_matrix = metrics.confusion_matrix(y, K_fold(selector.transform(X), y, svm.SVC))"
   ]
  },
  {
   "cell_type": "code",
   "execution_count": 59,
   "metadata": {
    "collapsed": false
   },
   "outputs": [
    {
     "data": {
      "text/plain": [
       "<matplotlib.axes._subplots.AxesSubplot at 0x7fb02d77cc50>"
      ]
     },
     "execution_count": 59,
     "metadata": {},
     "output_type": "execute_result"
    },
    {
     "data": {
      "image/png": "[encoded data removed]",
      "text/plain": [
       "<matplotlib.figure.Figure at 0x7fb02d7e1890>"
      ]
     },
     "metadata": {},
     "output_type": "display_data"
    }
   ],
   "source": [
    "title = 'Confusion matrix for the SVM model'\n",
    "plt.title(title);\n",
    "#Plotting the confusion matrix.\n",
    "sns.heatmap(svm_svc_conf_matrix, annot=True,  fmt='')"
   ]
  }
 ],
 "metadata": {
  "kernelspec": {
   "display_name": "Python 2",
   "language": "python",
   "name": "python2"
  },
  "language_info": {
   "codemirror_mode": {
    "name": "ipython",
    "version": 2
   },
   "file_extension": ".py",
   "mimetype": "text/x-python",
   "name": "python",
   "nbconvert_exporter": "python",
   "pygments_lexer": "ipython2",
   "version": "2.7.10"
  }
 },
 "nbformat": 4,
 "nbformat_minor": 0
}
